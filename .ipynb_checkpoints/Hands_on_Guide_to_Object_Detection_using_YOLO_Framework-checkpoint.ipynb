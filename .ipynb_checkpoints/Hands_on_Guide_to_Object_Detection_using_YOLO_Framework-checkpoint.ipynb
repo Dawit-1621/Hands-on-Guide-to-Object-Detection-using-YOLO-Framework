{
 "cells": [
  {
   "cell_type": "markdown",
   "id": "mental-hotel",
   "metadata": {},
   "source": [
    "# Hands on Guide to Object Detection using YOLO Framework"
   ]
  },
  {
   "cell_type": "markdown",
   "id": "powered-canada",
   "metadata": {},
   "source": [
    "In this tutorial we will cover the following contents:\n",
    "- Introudction to YOLO\n",
    "- Set up your environment\n",
    "- About the YOLO v5 Model\n",
    "- Set up the data and the directories\n",
    "- Set up the configuration YAML files\n",
    "- Train the model to learn how to detect objects\n",
    "- Use your custom Yolo V5 model to detect objects on the test data\n",
    "- "
   ]
  },
  {
   "cell_type": "markdown",
   "id": "lasting-radar",
   "metadata": {},
   "source": [
    "#### Introudction to YOLO\n",
    "**You only look once (YOLO)** is a state-of-the-art, real-time object detection system.\n",
    "YOLO is one of the most effective object detection algorithms that also encompasses many of the most innovative ideas coming out of the computer vision research community.\n",
    "###### Object Detection\n",
    "Object Detection seeks to identify the presence of relevant objects in images and classify those objects into relevant classes.</br>\n",
    "Object Detection model will separate the bounding box regression from object classifications in different area of a connected network."
   ]
  },
  {
   "cell_type": "markdown",
   "id": "electronic-column",
   "metadata": {},
   "source": [
    "YOLO was initially introduced as the first object detection model that combined bounding box prediction and object classification into a single end to end differentiable network. "
   ]
  },
  {
   "cell_type": "code",
   "execution_count": null,
   "id": "union-condition",
   "metadata": {},
   "outputs": [],
   "source": []
  }
 ],
 "metadata": {
  "kernelspec": {
   "display_name": "Python 3",
   "language": "python",
   "name": "python3"
  },
  "language_info": {
   "codemirror_mode": {
    "name": "ipython",
    "version": 3
   },
   "file_extension": ".py",
   "mimetype": "text/x-python",
   "name": "python",
   "nbconvert_exporter": "python",
   "pygments_lexer": "ipython3",
   "version": "3.7.9"
  }
 },
 "nbformat": 4,
 "nbformat_minor": 5
}
