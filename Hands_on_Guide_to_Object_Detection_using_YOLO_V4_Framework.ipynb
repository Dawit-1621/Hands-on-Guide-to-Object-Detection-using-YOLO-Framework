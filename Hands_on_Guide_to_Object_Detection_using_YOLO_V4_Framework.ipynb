{
 "cells": [
  {
   "cell_type": "markdown",
   "metadata": {},
   "source": [
    "# Hands on Guide to Object Detection using YOLO Framework"
   ]
  },
  {
   "cell_type": "markdown",
   "metadata": {},
   "source": [
    "In this tutorial we will cover the following contents:\n",
    "- Introudction to YOLO\n",
    "- Set up your environment\n",
    "- About the YOLO v5 Model\n",
    "- Set up the data and the directories\n",
    "- Set up the configuration YAML files\n",
    "- Train the model to learn how to detect objects\n",
    "- Use your custom Yolo V5 model to detect objects on the test data"
   ]
  },
  {
   "cell_type": "markdown",
   "metadata": {},
   "source": [
    "#### Introudction to YOLO\n",
    "**You only look once (YOLO)** is a state-of-the-art, real-time object detection system.\n",
    "YOLO is one of the most effective object detection algorithms that also encompasses many of the most innovative ideas coming out of the computer vision research community.\n",
    "###### Object Detection\n",
    "Object Detection seeks to identify the presence of relevant objects in images and classify those objects into relevant classes.</br>\n",
    "Object Detection model will separate the bounding box regression from object classifications in different area of a connected network."
   ]
  },
  {
   "cell_type": "markdown",
   "metadata": {},
   "source": [
    "YOLO was initially introduced as the first object detection model that combined bounding box prediction and object classification into a single end to end differentiable network. "
   ]
  },
  {
   "cell_type": "code",
   "execution_count": null,
   "metadata": {
    "colab": {
     "base_uri": "https://localhost:8080/"
    },
    "executionInfo": {
     "elapsed": 92061,
     "status": "ok",
     "timestamp": 1621414955839,
     "user": {
      "displayName": "Dawit Hassen",
      "photoUrl": "https://lh3.googleusercontent.com/a-/AOh14GjnYP8gYRhauRdOBe_Q3mSyRLpaV65tqCiW1R4jiw=s64",
      "userId": "03505516772427212361"
     },
     "user_tz": -180
    },
    "id": "7w5-3Wm72z27",
    "outputId": "d1c9aaa4-3597-4f6a-e2eb-2fc86968fa67"
   },
   "outputs": [],
   "source": []
  },
  {
   "cell_type": "markdown",
   "metadata": {
    "id": "RntQ970a5P3s"
   },
   "source": [
    "**Download pre-trained YOLOv4 weights**\n",
    "YOLOv4 has been trained already on the coco dataset which has 80 classes that it can predict. We will grab these pretrained weights so that we can run YOLOv4 on these pretrained classes and get detections."
   ]
  },
  {
   "cell_type": "code",
   "execution_count": null,
   "metadata": {
    "colab": {
     "base_uri": "https://localhost:8080/"
    },
    "executionInfo": {
     "elapsed": 2825,
     "status": "ok",
     "timestamp": 1621414998226,
     "user": {
      "displayName": "Dawit Hassen",
      "photoUrl": "https://lh3.googleusercontent.com/a-/AOh14GjnYP8gYRhauRdOBe_Q3mSyRLpaV65tqCiW1R4jiw=s64",
      "userId": "03505516772427212361"
     },
     "user_tz": -180
    },
    "id": "jF5YUE3H2z5q",
    "outputId": "b96e2f92-a180-49d6-8c60-452ba8ad7e5f"
   },
   "outputs": [],
   "source": []
  },
  {
   "cell_type": "markdown",
   "metadata": {
    "id": "nWCgcJZd5AeS"
   },
   "source": [
    "To start using the ImageAI, first, we need to have some installations. If you are working in Colab, then execute the below line as it is given. If you are working on your local system, run it on command prompt after removing ! from the beginning. The first command will install the ImageAI dependencies and the second command will download the weights of the pre-trained convolutional neural network. "
   ]
  },
  {
   "cell_type": "code",
   "execution_count": null,
   "metadata": {
    "colab": {
     "base_uri": "https://localhost:8080/"
    },
    "executionInfo": {
     "elapsed": 5557,
     "status": "ok",
     "timestamp": 1621415417201,
     "user": {
      "displayName": "Dawit Hassen",
      "photoUrl": "https://lh3.googleusercontent.com/a-/AOh14GjnYP8gYRhauRdOBe_Q3mSyRLpaV65tqCiW1R4jiw=s64",
      "userId": "03505516772427212361"
     },
     "user_tz": -180
    },
    "id": "dG8tOh_B2z82",
    "outputId": "8052ccdd-6f9f-43c9-ce31-04ef056dd9b2"
   },
   "outputs": [],
   "source": []
  },
  {
   "cell_type": "code",
   "execution_count": 14,
   "metadata": {
    "executionInfo": {
     "elapsed": 1914,
     "status": "ok",
     "timestamp": 1621419736705,
     "user": {
      "displayName": "Dawit Hassen",
      "photoUrl": "https://lh3.googleusercontent.com/a-/AOh14GjnYP8gYRhauRdOBe_Q3mSyRLpaV65tqCiW1R4jiw=s64",
      "userId": "03505516772427212361"
     },
     "user_tz": -180
    },
    "id": "khrMDZ322z_b"
   },
   "outputs": [],
   "source": [
    "#Library\n",
    "from imageai.Detection import ObjectDetection\n",
    "import os\n",
    "import time\n"
   ]
  },
  {
   "cell_type": "code",
   "execution_count": 15,
   "metadata": {
    "executionInfo": {
     "elapsed": 2009,
     "status": "ok",
     "timestamp": 1621419741152,
     "user": {
      "displayName": "Dawit Hassen",
      "photoUrl": "https://lh3.googleusercontent.com/a-/AOh14GjnYP8gYRhauRdOBe_Q3mSyRLpaV65tqCiW1R4jiw=s64",
      "userId": "03505516772427212361"
     },
     "user_tz": -180
    },
    "id": "ePHph-Lk20CB"
   },
   "outputs": [],
   "source": [
    "#Current working directory\n",
    "exec_path = os.getcwd()"
   ]
  },
  {
   "cell_type": "code",
   "execution_count": null,
   "metadata": {
    "colab": {
     "base_uri": "https://localhost:8080/",
     "height": 350
    },
    "executionInfo": {
     "elapsed": 2070,
     "status": "error",
     "timestamp": 1621419747246,
     "user": {
      "displayName": "Dawit Hassen",
      "photoUrl": "https://lh3.googleusercontent.com/a-/AOh14GjnYP8gYRhauRdOBe_Q3mSyRLpaV65tqCiW1R4jiw=s64",
      "userId": "03505516772427212361"
     },
     "user_tz": -180
    },
    "id": "2hylkU_I5kKr",
    "outputId": "5c2c5aa9-8261-4bdd-8a94-ca44de0d1463"
   },
   "outputs": [],
   "source": []
  },
  {
   "cell_type": "code",
   "execution_count": 18,
   "metadata": {
    "colab": {
     "base_uri": "https://localhost:8080/"
    },
    "executionInfo": {
     "elapsed": 25248,
     "status": "ok",
     "timestamp": 1621419819327,
     "user": {
      "displayName": "Dawit Hassen",
      "photoUrl": "https://lh3.googleusercontent.com/a-/AOh14GjnYP8gYRhauRdOBe_Q3mSyRLpaV65tqCiW1R4jiw=s64",
      "userId": "03505516772427212361"
     },
     "user_tz": -180
    },
    "id": "a8dBezti5kNL",
    "outputId": "2f53ca32-67d4-43ff-c972-912811455660"
   },
   "outputs": [
    {
     "name": "stdout",
     "output_type": "stream",
     "text": [
      "Mounted at /content/drive\n"
     ]
    }
   ],
   "source": [
    "#Library for image\n",
    "from PIL import Image\n",
    "from google.colab import drive\n",
    " \n",
    "# Accessing My Google Drive\n",
    "drive.mount('/content/drive')"
   ]
  },
  {
   "cell_type": "code",
   "execution_count": null,
   "metadata": {
    "id": "ju_dltgg5kPm"
   },
   "outputs": [],
   "source": [
    "#First Image\n",
    "Image.open(\"/content/drive/My Drive/Computer_Visionimg1.jpg\")"
   ]
  },
  {
   "cell_type": "code",
   "execution_count": null,
   "metadata": {
    "id": "jAQS83bw5kR5"
   },
   "outputs": [],
   "source": []
  }
 ],
 "metadata": {
  "colab": {
   "authorship_tag": "ABX9TyOuRwUuqyGaCoXYRGkO2uus",
   "name": "Untitled0.ipynb",
   "version": ""
  },
  "kernelspec": {
   "display_name": "Python 3",
   "language": "python",
   "name": "python3"
  },
  "language_info": {
   "codemirror_mode": {
    "name": "ipython",
    "version": 3
   },
   "file_extension": ".py",
   "mimetype": "text/x-python",
   "name": "python",
   "nbconvert_exporter": "python",
   "pygments_lexer": "ipython3",
   "version": "3.8.8"
  }
 },
 "nbformat": 4,
 "nbformat_minor": 1
}
