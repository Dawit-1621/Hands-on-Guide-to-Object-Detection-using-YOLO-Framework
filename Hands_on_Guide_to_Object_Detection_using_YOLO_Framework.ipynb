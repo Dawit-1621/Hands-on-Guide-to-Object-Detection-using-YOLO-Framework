{
 "cells": [
  {
   "cell_type": "markdown",
   "id": "mental-hotel",
   "metadata": {},
   "source": [
    "# Hands on Guide to Object Detection using YOLO Framework"
   ]
  },
  {
   "cell_type": "markdown",
   "id": "subtle-shooting",
   "metadata": {},
   "source": [
    "**You only look once (YOLO)** is a state-of-the-art, real-time object detection system.\n",
    "YOLO is one of the most effective object detection algorithms that also encompasses many of the most innovative ideas coming out of the computer vision research community."
   ]
  },
  {
   "cell_type": "code",
   "execution_count": null,
   "id": "studied-petite",
   "metadata": {},
   "outputs": [],
   "source": []
  },
  {
   "cell_type": "code",
   "execution_count": null,
   "id": "liable-collectible",
   "metadata": {},
   "outputs": [],
   "source": []
  },
  {
   "cell_type": "code",
   "execution_count": null,
   "id": "controversial-group",
   "metadata": {},
   "outputs": [],
   "source": []
  },
  {
   "cell_type": "code",
   "execution_count": null,
   "id": "union-condition",
   "metadata": {},
   "outputs": [],
   "source": []
  }
 ],
 "metadata": {
  "kernelspec": {
   "display_name": "Python 3",
   "language": "python",
   "name": "python3"
  },
  "language_info": {
   "codemirror_mode": {
    "name": "ipython",
    "version": 3
   },
   "file_extension": ".py",
   "mimetype": "text/x-python",
   "name": "python",
   "nbconvert_exporter": "python",
   "pygments_lexer": "ipython3",
   "version": "3.7.9"
  }
 },
 "nbformat": 4,
 "nbformat_minor": 5
}
